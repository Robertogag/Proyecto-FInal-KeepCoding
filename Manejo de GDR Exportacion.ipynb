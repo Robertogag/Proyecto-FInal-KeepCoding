{
 "cells": [
  {
   "cell_type": "code",
   "execution_count": 1,
   "metadata": {},
   "outputs": [],
   "source": [
    "import pandas as pd \n",
    "import numpy as np \n",
    "import xlsxwriter\n",
    "import openpyxl \n",
    "import os \n",
    "from openpyxl import load_workbook\n",
    "from pathlib import Path\n",
    "import unidecode"
   ]
  },
  {
   "cell_type": "markdown",
   "metadata": {},
   "source": [
    "# Iniciamos importando los archivos de GDR exportación\n",
    "\n",
    "Primero trataremos los Reportes de GDR historico."
   ]
  },
  {
   "cell_type": "code",
   "execution_count": 2,
   "metadata": {},
   "outputs": [],
   "source": [
    "df = r'C:\\Users\\ZZJQC0\\Documents\\Base de Datos RV\\Reportes\\Global Damage Report GM EXPORTACIÓN - Autotech\\Global Damage Report\\Global Damage Report.xlsx'\n",
    "\n",
    "GDR = pd.read_excel(df, sheet_name='Form', header=5)\n"
   ]
  },
  {
   "cell_type": "code",
   "execution_count": 3,
   "metadata": {},
   "outputs": [
    {
     "data": {
      "text/html": [
       "<div>\n",
       "<style scoped>\n",
       "    .dataframe tbody tr th:only-of-type {\n",
       "        vertical-align: middle;\n",
       "    }\n",
       "\n",
       "    .dataframe tbody tr th {\n",
       "        vertical-align: top;\n",
       "    }\n",
       "\n",
       "    .dataframe thead th {\n",
       "        text-align: right;\n",
       "    }\n",
       "</style>\n",
       "<table border=\"1\" class=\"dataframe\">\n",
       "  <thead>\n",
       "    <tr style=\"text-align: right;\">\n",
       "      <th></th>\n",
       "      <th>Fecha de recibo en Patio</th>\n",
       "      <th>VIN</th>\n",
       "      <th>Modelo</th>\n",
       "      <th>País Destino</th>\n",
       "      <th>Area</th>\n",
       "      <th>Tipo</th>\n",
       "      <th>Severidad</th>\n",
       "      <th>Clasificación del Daño</th>\n",
       "      <th>Descripción del Daño</th>\n",
       "      <th>Modo</th>\n",
       "      <th>...</th>\n",
       "      <th>Antigüedad por reparaciónn</th>\n",
       "      <th>Orden de Servicio</th>\n",
       "      <th>Requiere Partes (SI / NO)</th>\n",
       "      <th>Fecha de ordenamiento de partes</th>\n",
       "      <th># orden de partes</th>\n",
       "      <th>ETA entrega de partes</th>\n",
       "      <th>Estatus de reparación</th>\n",
       "      <th>Fecha termino de reparación/liberación</th>\n",
       "      <th>Comentarios</th>\n",
       "      <th>Sitio</th>\n",
       "    </tr>\n",
       "  </thead>\n",
       "  <tbody>\n",
       "    <tr>\n",
       "      <th>0</th>\n",
       "      <td>2021-12-12</td>\n",
       "      <td>3GCPWAEK4NG148345</td>\n",
       "      <td>SILVERADO</td>\n",
       "      <td>USA</td>\n",
       "      <td>52</td>\n",
       "      <td>5</td>\n",
       "      <td>1</td>\n",
       "      <td>TRANSPORTE</td>\n",
       "      <td>CAJUELA / QUINTA PUERTA / MALETERO DESPOSTILLA...</td>\n",
       "      <td>MADRINA</td>\n",
       "      <td>...</td>\n",
       "      <td>NaN</td>\n",
       "      <td>NaN</td>\n",
       "      <td>NaN</td>\n",
       "      <td>NaN</td>\n",
       "      <td>NaN</td>\n",
       "      <td>NaN</td>\n",
       "      <td>Liberación</td>\n",
       "      <td>NaN</td>\n",
       "      <td>NaN</td>\n",
       "      <td>AUTOTECH, Lázaro Cárdenas Mich.</td>\n",
       "    </tr>\n",
       "    <tr>\n",
       "      <th>1</th>\n",
       "      <td>2021-12-12</td>\n",
       "      <td>3GCPWBEK1NG159499</td>\n",
       "      <td>SILVERADO</td>\n",
       "      <td>USA</td>\n",
       "      <td>39</td>\n",
       "      <td>5</td>\n",
       "      <td>1</td>\n",
       "      <td>TRANSPORTE</td>\n",
       "      <td>ESTRIBO / ESCALON EXT. DER. (T) SUV-PICK-UP DE...</td>\n",
       "      <td>MADRINA</td>\n",
       "      <td>...</td>\n",
       "      <td>NaN</td>\n",
       "      <td>NaN</td>\n",
       "      <td>NaN</td>\n",
       "      <td>NaN</td>\n",
       "      <td>NaN</td>\n",
       "      <td>NaN</td>\n",
       "      <td>Liberación</td>\n",
       "      <td>NaN</td>\n",
       "      <td>NaN</td>\n",
       "      <td>AUTOTECH, Lázaro Cárdenas Mich.</td>\n",
       "    </tr>\n",
       "    <tr>\n",
       "      <th>2</th>\n",
       "      <td>2021-12-12</td>\n",
       "      <td>3GTP8CEKXNG142863</td>\n",
       "      <td>SIERRA</td>\n",
       "      <td>USA</td>\n",
       "      <td>27</td>\n",
       "      <td>30</td>\n",
       "      <td>2</td>\n",
       "      <td>TRANSPORTE</td>\n",
       "      <td>COFRE MANCHADO O SUCIO EXT. (FLUIDO SALPICADO)</td>\n",
       "      <td>MADRINA</td>\n",
       "      <td>...</td>\n",
       "      <td>NaN</td>\n",
       "      <td>NaN</td>\n",
       "      <td>NaN</td>\n",
       "      <td>NaN</td>\n",
       "      <td>NaN</td>\n",
       "      <td>NaN</td>\n",
       "      <td>Completado</td>\n",
       "      <td>NaN</td>\n",
       "      <td>NaN</td>\n",
       "      <td>AUTOTECH, Lázaro Cárdenas Mich.</td>\n",
       "    </tr>\n",
       "    <tr>\n",
       "      <th>3</th>\n",
       "      <td>2021-12-12</td>\n",
       "      <td>3GTU9DED0NG154057</td>\n",
       "      <td>SIERRA</td>\n",
       "      <td>USA</td>\n",
       "      <td>10</td>\n",
       "      <td>34</td>\n",
       "      <td>1</td>\n",
       "      <td>TRANSPORTE</td>\n",
       "      <td>PUERTA IZQUIERDA DELANTERA DESPOSTILLADO FILOS</td>\n",
       "      <td>MADRINA</td>\n",
       "      <td>...</td>\n",
       "      <td>NaN</td>\n",
       "      <td>NaN</td>\n",
       "      <td>NaN</td>\n",
       "      <td>NaN</td>\n",
       "      <td>NaN</td>\n",
       "      <td>NaN</td>\n",
       "      <td>Liberación</td>\n",
       "      <td>NaN</td>\n",
       "      <td>NaN</td>\n",
       "      <td>AUTOTECH, Lázaro Cárdenas Mich.</td>\n",
       "    </tr>\n",
       "    <tr>\n",
       "      <th>4</th>\n",
       "      <td>2021-12-12</td>\n",
       "      <td>3GCPWCEK5NG157065</td>\n",
       "      <td>SILVERADO</td>\n",
       "      <td>USA</td>\n",
       "      <td>27</td>\n",
       "      <td>30</td>\n",
       "      <td>2</td>\n",
       "      <td>TRANSPORTE</td>\n",
       "      <td>COFRE MANCHADO O SUCIO EXT. (FLUIDO SALPICADO)</td>\n",
       "      <td>MADRINA</td>\n",
       "      <td>...</td>\n",
       "      <td>NaN</td>\n",
       "      <td>NaN</td>\n",
       "      <td>NaN</td>\n",
       "      <td>NaN</td>\n",
       "      <td>NaN</td>\n",
       "      <td>NaN</td>\n",
       "      <td>Completado</td>\n",
       "      <td>NaN</td>\n",
       "      <td>NaN</td>\n",
       "      <td>AUTOTECH, Lázaro Cárdenas Mich.</td>\n",
       "    </tr>\n",
       "  </tbody>\n",
       "</table>\n",
       "<p>5 rows × 26 columns</p>\n",
       "</div>"
      ],
      "text/plain": [
       "  Fecha de recibo en Patio                VIN            Modelo País Destino   \\\n",
       "0               2021-12-12  3GCPWAEK4NG148345  SILVERADO                  USA   \n",
       "1               2021-12-12  3GCPWBEK1NG159499  SILVERADO                  USA   \n",
       "2               2021-12-12  3GTP8CEKXNG142863     SIERRA                  USA   \n",
       "3               2021-12-12  3GTU9DED0NG154057     SIERRA                  USA   \n",
       "4               2021-12-12  3GCPWCEK5NG157065  SILVERADO                  USA   \n",
       "\n",
       "   Area  Tipo Severidad Clasificación del Daño  \\\n",
       "0    52     5         1             TRANSPORTE   \n",
       "1    39     5         1             TRANSPORTE   \n",
       "2    27    30         2             TRANSPORTE   \n",
       "3    10    34         1             TRANSPORTE   \n",
       "4    27    30         2             TRANSPORTE   \n",
       "\n",
       "                               Descripción del Daño      Modo  ...  \\\n",
       "0  CAJUELA / QUINTA PUERTA / MALETERO DESPOSTILLA...  MADRINA  ...   \n",
       "1  ESTRIBO / ESCALON EXT. DER. (T) SUV-PICK-UP DE...  MADRINA  ...   \n",
       "2     COFRE MANCHADO O SUCIO EXT. (FLUIDO SALPICADO)  MADRINA  ...   \n",
       "3     PUERTA IZQUIERDA DELANTERA DESPOSTILLADO FILOS  MADRINA  ...   \n",
       "4     COFRE MANCHADO O SUCIO EXT. (FLUIDO SALPICADO)  MADRINA  ...   \n",
       "\n",
       "  Antigüedad por reparaciónn  Orden de Servicio  Requiere Partes (SI / NO)  \\\n",
       "0                         NaN               NaN                        NaN   \n",
       "1                         NaN               NaN                        NaN   \n",
       "2                         NaN               NaN                        NaN   \n",
       "3                         NaN               NaN                        NaN   \n",
       "4                         NaN               NaN                        NaN   \n",
       "\n",
       "   Fecha de ordenamiento de partes  # orden de partes  ETA entrega de partes  \\\n",
       "0                              NaN                NaN                    NaN   \n",
       "1                              NaN                NaN                    NaN   \n",
       "2                              NaN                NaN                    NaN   \n",
       "3                              NaN                NaN                    NaN   \n",
       "4                              NaN                NaN                    NaN   \n",
       "\n",
       "   Estatus de reparación  Fecha termino de reparación/liberación   \\\n",
       "0             Liberación                                      NaN   \n",
       "1             Liberación                                      NaN   \n",
       "2             Completado                                      NaN   \n",
       "3             Liberación                                      NaN   \n",
       "4             Completado                                      NaN   \n",
       "\n",
       "   Comentarios                             Sitio  \n",
       "0           NaN  AUTOTECH, Lázaro Cárdenas Mich.  \n",
       "1           NaN  AUTOTECH, Lázaro Cárdenas Mich.  \n",
       "2           NaN  AUTOTECH, Lázaro Cárdenas Mich.  \n",
       "3           NaN  AUTOTECH, Lázaro Cárdenas Mich.  \n",
       "4           NaN  AUTOTECH, Lázaro Cárdenas Mich.  \n",
       "\n",
       "[5 rows x 26 columns]"
      ]
     },
     "execution_count": 3,
     "metadata": {},
     "output_type": "execute_result"
    }
   ],
   "source": [
    "GDR.head()"
   ]
  },
  {
   "cell_type": "markdown",
   "metadata": {},
   "source": [
    "**Limpiar nombre de columnas**"
   ]
  },
  {
   "cell_type": "code",
   "execution_count": 4,
   "metadata": {},
   "outputs": [
    {
     "data": {
      "text/plain": [
       "Index(['Fecha de recibo en Patio', 'VIN', 'Modelo', 'País Destino ', 'Area',\n",
       "       'Tipo', 'Severidad', 'Clasificación del Daño', 'Descripción del Daño ',\n",
       "       'Modo', 'Transportista', 'Responsable del Daño',\n",
       "       'Reparable Si / No (Perdida Total)', 'Responsable de la reparación ',\n",
       "       'Fecha autorización para reparación ', 'Fecha Estimada de liberación',\n",
       "       'Antigüedad por reparaciónn ', 'Orden de Servicio',\n",
       "       'Requiere Partes (SI / NO)', 'Fecha de ordenamiento de partes',\n",
       "       '# orden de partes', 'ETA entrega de partes', 'Estatus de reparación',\n",
       "       'Fecha termino de reparación/liberación ', 'Comentarios ', 'Sitio'],\n",
       "      dtype='object')"
      ]
     },
     "execution_count": 4,
     "metadata": {},
     "output_type": "execute_result"
    }
   ],
   "source": [
    "GDR.columns"
   ]
  },
  {
   "cell_type": "markdown",
   "metadata": {},
   "source": [
    "**Notamos que hay columnas que tienen espacios, es nmecesario arreglar eso**"
   ]
  },
  {
   "cell_type": "code",
   "execution_count": 5,
   "metadata": {},
   "outputs": [],
   "source": [
    "GDR.columns = GDR.columns.str.strip()"
   ]
  },
  {
   "cell_type": "code",
   "execution_count": 6,
   "metadata": {},
   "outputs": [
    {
     "data": {
      "text/plain": [
       "Index(['Fecha de recibo en Patio', 'VIN', 'Modelo', 'País Destino', 'Area',\n",
       "       'Tipo', 'Severidad', 'Clasificación del Daño', 'Descripción del Daño',\n",
       "       'Modo', 'Transportista', 'Responsable del Daño',\n",
       "       'Reparable Si / No (Perdida Total)', 'Responsable de la reparación',\n",
       "       'Fecha autorización para reparación', 'Fecha Estimada de liberación',\n",
       "       'Antigüedad por reparaciónn', 'Orden de Servicio',\n",
       "       'Requiere Partes (SI / NO)', 'Fecha de ordenamiento de partes',\n",
       "       '# orden de partes', 'ETA entrega de partes', 'Estatus de reparación',\n",
       "       'Fecha termino de reparación/liberación', 'Comentarios', 'Sitio'],\n",
       "      dtype='object')"
      ]
     },
     "execution_count": 6,
     "metadata": {},
     "output_type": "execute_result"
    }
   ],
   "source": [
    "GDR.columns"
   ]
  },
  {
   "cell_type": "markdown",
   "metadata": {},
   "source": [
    "**Eliminar columnas sin datos¨**"
   ]
  },
  {
   "cell_type": "code",
   "execution_count": 7,
   "metadata": {},
   "outputs": [
    {
     "name": "stdout",
     "output_type": "stream",
     "text": [
      "<class 'pandas.core.frame.DataFrame'>\n",
      "RangeIndex: 38024 entries, 0 to 38023\n",
      "Data columns (total 26 columns):\n",
      " #   Column                                  Non-Null Count  Dtype         \n",
      "---  ------                                  --------------  -----         \n",
      " 0   Fecha de recibo en Patio                38024 non-null  datetime64[ns]\n",
      " 1   VIN                                     38024 non-null  object        \n",
      " 2   Modelo                                  38024 non-null  object        \n",
      " 3   País Destino                            38024 non-null  object        \n",
      " 4   Area                                    38024 non-null  int64         \n",
      " 5   Tipo                                    38024 non-null  int64         \n",
      " 6   Severidad                               38024 non-null  object        \n",
      " 7   Clasificación del Daño                  38024 non-null  object        \n",
      " 8   Descripción del Daño                    38024 non-null  object        \n",
      " 9   Modo                                    38024 non-null  object        \n",
      " 10  Transportista                           38024 non-null  object        \n",
      " 11  Responsable del Daño                    38024 non-null  object        \n",
      " 12  Reparable Si / No (Perdida Total)       0 non-null      float64       \n",
      " 13  Responsable de la reparación            0 non-null      float64       \n",
      " 14  Fecha autorización para reparación      0 non-null      float64       \n",
      " 15  Fecha Estimada de liberación            0 non-null      float64       \n",
      " 16  Antigüedad por reparaciónn              0 non-null      float64       \n",
      " 17  Orden de Servicio                       0 non-null      float64       \n",
      " 18  Requiere Partes (SI / NO)               0 non-null      float64       \n",
      " 19  Fecha de ordenamiento de partes         0 non-null      float64       \n",
      " 20  # orden de partes                       0 non-null      float64       \n",
      " 21  ETA entrega de partes                   0 non-null      float64       \n",
      " 22  Estatus de reparación                   37295 non-null  object        \n",
      " 23  Fecha termino de reparación/liberación  0 non-null      float64       \n",
      " 24  Comentarios                             6655 non-null   object        \n",
      " 25  Sitio                                   38023 non-null  object        \n",
      "dtypes: datetime64[ns](1), float64(11), int64(2), object(12)\n",
      "memory usage: 7.5+ MB\n"
     ]
    }
   ],
   "source": [
    "GDR.info()"
   ]
  },
  {
   "cell_type": "code",
   "execution_count": 8,
   "metadata": {},
   "outputs": [],
   "source": [
    "GDR = GDR.dropna(axis=1, how='all')\n",
    "\n",
    "GDR = GDR.dropna(how='all')\n",
    "\n"
   ]
  },
  {
   "cell_type": "code",
   "execution_count": 9,
   "metadata": {},
   "outputs": [
    {
     "name": "stdout",
     "output_type": "stream",
     "text": [
      "<class 'pandas.core.frame.DataFrame'>\n",
      "RangeIndex: 38024 entries, 0 to 38023\n",
      "Data columns (total 15 columns):\n",
      " #   Column                    Non-Null Count  Dtype         \n",
      "---  ------                    --------------  -----         \n",
      " 0   Fecha de recibo en Patio  38024 non-null  datetime64[ns]\n",
      " 1   VIN                       38024 non-null  object        \n",
      " 2   Modelo                    38024 non-null  object        \n",
      " 3   País Destino              38024 non-null  object        \n",
      " 4   Area                      38024 non-null  int64         \n",
      " 5   Tipo                      38024 non-null  int64         \n",
      " 6   Severidad                 38024 non-null  object        \n",
      " 7   Clasificación del Daño    38024 non-null  object        \n",
      " 8   Descripción del Daño      38024 non-null  object        \n",
      " 9   Modo                      38024 non-null  object        \n",
      " 10  Transportista             38024 non-null  object        \n",
      " 11  Responsable del Daño      38024 non-null  object        \n",
      " 12  Estatus de reparación     37295 non-null  object        \n",
      " 13  Comentarios               6655 non-null   object        \n",
      " 14  Sitio                     38023 non-null  object        \n",
      "dtypes: datetime64[ns](1), int64(2), object(12)\n",
      "memory usage: 4.4+ MB\n"
     ]
    }
   ],
   "source": [
    "GDR.info()"
   ]
  },
  {
   "cell_type": "markdown",
   "metadata": {},
   "source": [
    "**Normalizar Columnas**"
   ]
  },
  {
   "cell_type": "code",
   "execution_count": 10,
   "metadata": {},
   "outputs": [
    {
     "data": {
      "text/plain": [
       "Index(['Fecha de recibo en Patio', 'VIN', 'Modelo', 'País Destino', 'Area',\n",
       "       'Tipo', 'Severidad', 'Clasificación del Daño', 'Descripción del Daño',\n",
       "       'Modo', 'Transportista', 'Responsable del Daño',\n",
       "       'Estatus de reparación', 'Comentarios', 'Sitio'],\n",
       "      dtype='object')"
      ]
     },
     "execution_count": 10,
     "metadata": {},
     "output_type": "execute_result"
    }
   ],
   "source": [
    "GDR.columns"
   ]
  },
  {
   "cell_type": "code",
   "execution_count": 11,
   "metadata": {},
   "outputs": [],
   "source": [
    "GDR.columns = [unidecode.unidecode(col).upper() for col in GDR.columns]\n"
   ]
  },
  {
   "cell_type": "code",
   "execution_count": 12,
   "metadata": {},
   "outputs": [
    {
     "data": {
      "text/plain": [
       "Index(['FECHA DE RECIBO EN PATIO', 'VIN', 'MODELO', 'PAIS DESTINO', 'AREA',\n",
       "       'TIPO', 'SEVERIDAD', 'CLASIFICACION DEL DANO', 'DESCRIPCION DEL DANO',\n",
       "       'MODO', 'TRANSPORTISTA', 'RESPONSABLE DEL DANO',\n",
       "       'ESTATUS DE REPARACION', 'COMENTARIOS', 'SITIO'],\n",
       "      dtype='object')"
      ]
     },
     "execution_count": 12,
     "metadata": {},
     "output_type": "execute_result"
    }
   ],
   "source": [
    "GDR.columns"
   ]
  },
  {
   "cell_type": "markdown",
   "metadata": {},
   "source": [
    "### Fechas"
   ]
  },
  {
   "cell_type": "code",
   "execution_count": 13,
   "metadata": {},
   "outputs": [
    {
     "data": {
      "text/plain": [
       "0   2021-12-12\n",
       "1   2021-12-12\n",
       "2   2021-12-12\n",
       "3   2021-12-12\n",
       "4   2021-12-12\n",
       "Name: FECHA DE RECIBO EN PATIO, dtype: datetime64[ns]"
      ]
     },
     "execution_count": 13,
     "metadata": {},
     "output_type": "execute_result"
    }
   ],
   "source": [
    "GDR['FECHA DE RECIBO EN PATIO'].head()"
   ]
  },
  {
   "cell_type": "markdown",
   "metadata": {},
   "source": [
    "**Insertar columnas d eidentificación:**"
   ]
  },
  {
   "cell_type": "code",
   "execution_count": 14,
   "metadata": {},
   "outputs": [
    {
     "name": "stdout",
     "output_type": "stream",
     "text": [
      "La columna 'SEVERIDAD' contiene guiones.\n"
     ]
    }
   ],
   "source": [
    "# Comprobando si la columna 'severidad_id' contiene '-'\n",
    "contiene_guiones = GDR['SEVERIDAD'].astype(str).str.contains('-').any()\n",
    "\n",
    "if contiene_guiones:\n",
    "    print(\"La columna 'SEVERIDAD' contiene guiones.\")\n",
    "else:\n",
    "    print(\"La columna 'SEVERIDAD' no contiene guiones.\")\n"
   ]
  },
  {
   "cell_type": "code",
   "execution_count": 15,
   "metadata": {},
   "outputs": [
    {
     "name": "stdout",
     "output_type": "stream",
     "text": [
      "0    1\n",
      "1    1\n",
      "2    2\n",
      "3    1\n",
      "4    2\n",
      "Name: SEVERIDAD, dtype: int32\n"
     ]
    }
   ],
   "source": [
    "# Transformando guiones en 0 en la columna 'severidad_id'\n",
    "GDR['SEVERIDAD'] = GDR['SEVERIDAD'].astype(str).replace('-', 0).astype(int)\n",
    "\n",
    "# Verificación opcional para imprimir las primeras filas y ver el resultado\n",
    "print(GDR['SEVERIDAD'].head())\n"
   ]
  },
  {
   "cell_type": "code",
   "execution_count": 16,
   "metadata": {},
   "outputs": [],
   "source": [
    "# Generar IDs para las columnas requeridas\n",
    "GDR['modelo_id'] = pd.factorize(GDR['MODELO'])[0] + 1\n",
    "GDR['transportista_id'] = pd.factorize(GDR['TRANSPORTISTA'])[0] + 1\n",
    "GDR['pais_id'] = pd.factorize(GDR['PAIS DESTINO'])[0] + 1\n",
    "\n",
    "# Asumiendo que las columnas AREA, TIPO y SEVERIDAD ya tienen identificadores numéricos asignados\n",
    "# Si necesitas crear identificadores para estas columnas:\n",
    "GDR['area_id'] = GDR['AREA']\n",
    "GDR['tipo_id'] = GDR['TIPO']\n",
    "GDR['severidad_id'] = GDR['SEVERIDAD']\n"
   ]
  },
  {
   "cell_type": "code",
   "execution_count": 17,
   "metadata": {},
   "outputs": [
    {
     "name": "stdout",
     "output_type": "stream",
     "text": [
      "<class 'pandas.core.frame.DataFrame'>\n",
      "RangeIndex: 38024 entries, 0 to 38023\n",
      "Data columns (total 21 columns):\n",
      " #   Column                    Non-Null Count  Dtype         \n",
      "---  ------                    --------------  -----         \n",
      " 0   FECHA DE RECIBO EN PATIO  38024 non-null  datetime64[ns]\n",
      " 1   VIN                       38024 non-null  object        \n",
      " 2   MODELO                    38024 non-null  object        \n",
      " 3   PAIS DESTINO              38024 non-null  object        \n",
      " 4   AREA                      38024 non-null  int64         \n",
      " 5   TIPO                      38024 non-null  int64         \n",
      " 6   SEVERIDAD                 38024 non-null  int32         \n",
      " 7   CLASIFICACION DEL DANO    38024 non-null  object        \n",
      " 8   DESCRIPCION DEL DANO      38024 non-null  object        \n",
      " 9   MODO                      38024 non-null  object        \n",
      " 10  TRANSPORTISTA             38024 non-null  object        \n",
      " 11  RESPONSABLE DEL DANO      38024 non-null  object        \n",
      " 12  ESTATUS DE REPARACION     37295 non-null  object        \n",
      " 13  COMENTARIOS               6655 non-null   object        \n",
      " 14  SITIO                     38023 non-null  object        \n",
      " 15  modelo_id                 38024 non-null  int64         \n",
      " 16  transportista_id          38024 non-null  int64         \n",
      " 17  pais_id                   38024 non-null  int64         \n",
      " 18  area_id                   38024 non-null  int64         \n",
      " 19  tipo_id                   38024 non-null  int64         \n",
      " 20  severidad_id              38024 non-null  int32         \n",
      "dtypes: datetime64[ns](1), int32(2), int64(7), object(11)\n",
      "memory usage: 5.8+ MB\n"
     ]
    }
   ],
   "source": [
    "GDR.info()"
   ]
  },
  {
   "cell_type": "markdown",
   "metadata": {},
   "source": [
    "**Tabla es_responsable**"
   ]
  },
  {
   "cell_type": "code",
   "execution_count": 18,
   "metadata": {},
   "outputs": [],
   "source": [
    "# Crear una columna 'es_responsable' basada en la comparación de 'TRANSPORTISTA' y 'RESPONSABLE DEL DANO'\n",
    "# Si el nombre del transportista aparece en 'RESPONSABLE DEL DANO', entonces es responsable\n",
    "GDR['es_responsable'] = GDR['TRANSPORTISTA'].isin(GDR['RESPONSABLE DEL DANO'])\n"
   ]
  },
  {
   "cell_type": "markdown",
   "metadata": {},
   "source": [
    "# Descargamos El reporte GDR"
   ]
  },
  {
   "cell_type": "code",
   "execution_count": 19,
   "metadata": {},
   "outputs": [
    {
     "ename": "PermissionError",
     "evalue": "[Errno 13] Permission denied: 'C:\\\\Users\\\\ZZJQC0\\\\Documents\\\\Base de Datos RV\\\\Base de Datos\\\\Global Damage Report Exportacion.csv'",
     "output_type": "error",
     "traceback": [
      "\u001b[1;31m---------------------------------------------------------------------------\u001b[0m",
      "\u001b[1;31mPermissionError\u001b[0m                           Traceback (most recent call last)",
      "Cell \u001b[1;32mIn[19], line 5\u001b[0m\n\u001b[0;32m      2\u001b[0m ruta_archivo_csv \u001b[38;5;241m=\u001b[39m \u001b[38;5;124mr\u001b[39m\u001b[38;5;124m'\u001b[39m\u001b[38;5;124mC:\u001b[39m\u001b[38;5;124m\\\u001b[39m\u001b[38;5;124mUsers\u001b[39m\u001b[38;5;124m\\\u001b[39m\u001b[38;5;124mZZJQC0\u001b[39m\u001b[38;5;124m\\\u001b[39m\u001b[38;5;124mDocuments\u001b[39m\u001b[38;5;124m\\\u001b[39m\u001b[38;5;124mBase de Datos RV\u001b[39m\u001b[38;5;124m\\\u001b[39m\u001b[38;5;124mBase de Datos\u001b[39m\u001b[38;5;124m\\\u001b[39m\u001b[38;5;124mGlobal Damage Report Exportacion.csv\u001b[39m\u001b[38;5;124m'\u001b[39m\n\u001b[0;32m      4\u001b[0m \u001b[38;5;66;03m# Guarda el DataFrame en formato CSV\u001b[39;00m\n\u001b[1;32m----> 5\u001b[0m \u001b[43mGDR\u001b[49m\u001b[38;5;241;43m.\u001b[39;49m\u001b[43mto_csv\u001b[49m\u001b[43m(\u001b[49m\u001b[43mruta_archivo_csv\u001b[49m\u001b[43m,\u001b[49m\u001b[43m \u001b[49m\u001b[43mindex\u001b[49m\u001b[38;5;241;43m=\u001b[39;49m\u001b[38;5;28;43;01mFalse\u001b[39;49;00m\u001b[43m,\u001b[49m\u001b[43m \u001b[49m\u001b[43mencoding\u001b[49m\u001b[38;5;241;43m=\u001b[39;49m\u001b[38;5;124;43m'\u001b[39;49m\u001b[38;5;124;43mutf-8-sig\u001b[39;49m\u001b[38;5;124;43m'\u001b[39;49m\u001b[43m)\u001b[49m\n\u001b[0;32m      7\u001b[0m \u001b[38;5;28mprint\u001b[39m(\u001b[38;5;124mf\u001b[39m\u001b[38;5;124m'\u001b[39m\u001b[38;5;124mArchivo guardado exitosamente en \u001b[39m\u001b[38;5;132;01m{\u001b[39;00mruta_archivo_csv\u001b[38;5;132;01m}\u001b[39;00m\u001b[38;5;124m'\u001b[39m)\n",
      "File \u001b[1;32m~\\AppData\\Local\\Packages\\PythonSoftwareFoundation.Python.3.11_qbz5n2kfra8p0\\LocalCache\\local-packages\\Python311\\site-packages\\pandas\\util\\_decorators.py:333\u001b[0m, in \u001b[0;36mdeprecate_nonkeyword_arguments.<locals>.decorate.<locals>.wrapper\u001b[1;34m(*args, **kwargs)\u001b[0m\n\u001b[0;32m    327\u001b[0m \u001b[38;5;28;01mif\u001b[39;00m \u001b[38;5;28mlen\u001b[39m(args) \u001b[38;5;241m>\u001b[39m num_allow_args:\n\u001b[0;32m    328\u001b[0m     warnings\u001b[38;5;241m.\u001b[39mwarn(\n\u001b[0;32m    329\u001b[0m         msg\u001b[38;5;241m.\u001b[39mformat(arguments\u001b[38;5;241m=\u001b[39m_format_argument_list(allow_args)),\n\u001b[0;32m    330\u001b[0m         \u001b[38;5;167;01mFutureWarning\u001b[39;00m,\n\u001b[0;32m    331\u001b[0m         stacklevel\u001b[38;5;241m=\u001b[39mfind_stack_level(),\n\u001b[0;32m    332\u001b[0m     )\n\u001b[1;32m--> 333\u001b[0m \u001b[38;5;28;01mreturn\u001b[39;00m \u001b[43mfunc\u001b[49m\u001b[43m(\u001b[49m\u001b[38;5;241;43m*\u001b[39;49m\u001b[43margs\u001b[49m\u001b[43m,\u001b[49m\u001b[43m \u001b[49m\u001b[38;5;241;43m*\u001b[39;49m\u001b[38;5;241;43m*\u001b[39;49m\u001b[43mkwargs\u001b[49m\u001b[43m)\u001b[49m\n",
      "File \u001b[1;32m~\\AppData\\Local\\Packages\\PythonSoftwareFoundation.Python.3.11_qbz5n2kfra8p0\\LocalCache\\local-packages\\Python311\\site-packages\\pandas\\core\\generic.py:3964\u001b[0m, in \u001b[0;36mNDFrame.to_csv\u001b[1;34m(self, path_or_buf, sep, na_rep, float_format, columns, header, index, index_label, mode, encoding, compression, quoting, quotechar, lineterminator, chunksize, date_format, doublequote, escapechar, decimal, errors, storage_options)\u001b[0m\n\u001b[0;32m   3953\u001b[0m df \u001b[38;5;241m=\u001b[39m \u001b[38;5;28mself\u001b[39m \u001b[38;5;28;01mif\u001b[39;00m \u001b[38;5;28misinstance\u001b[39m(\u001b[38;5;28mself\u001b[39m, ABCDataFrame) \u001b[38;5;28;01melse\u001b[39;00m \u001b[38;5;28mself\u001b[39m\u001b[38;5;241m.\u001b[39mto_frame()\n\u001b[0;32m   3955\u001b[0m formatter \u001b[38;5;241m=\u001b[39m DataFrameFormatter(\n\u001b[0;32m   3956\u001b[0m     frame\u001b[38;5;241m=\u001b[39mdf,\n\u001b[0;32m   3957\u001b[0m     header\u001b[38;5;241m=\u001b[39mheader,\n\u001b[1;32m   (...)\u001b[0m\n\u001b[0;32m   3961\u001b[0m     decimal\u001b[38;5;241m=\u001b[39mdecimal,\n\u001b[0;32m   3962\u001b[0m )\n\u001b[1;32m-> 3964\u001b[0m \u001b[38;5;28;01mreturn\u001b[39;00m \u001b[43mDataFrameRenderer\u001b[49m\u001b[43m(\u001b[49m\u001b[43mformatter\u001b[49m\u001b[43m)\u001b[49m\u001b[38;5;241;43m.\u001b[39;49m\u001b[43mto_csv\u001b[49m\u001b[43m(\u001b[49m\n\u001b[0;32m   3965\u001b[0m \u001b[43m    \u001b[49m\u001b[43mpath_or_buf\u001b[49m\u001b[43m,\u001b[49m\n\u001b[0;32m   3966\u001b[0m \u001b[43m    \u001b[49m\u001b[43mlineterminator\u001b[49m\u001b[38;5;241;43m=\u001b[39;49m\u001b[43mlineterminator\u001b[49m\u001b[43m,\u001b[49m\n\u001b[0;32m   3967\u001b[0m \u001b[43m    \u001b[49m\u001b[43msep\u001b[49m\u001b[38;5;241;43m=\u001b[39;49m\u001b[43msep\u001b[49m\u001b[43m,\u001b[49m\n\u001b[0;32m   3968\u001b[0m \u001b[43m    \u001b[49m\u001b[43mencoding\u001b[49m\u001b[38;5;241;43m=\u001b[39;49m\u001b[43mencoding\u001b[49m\u001b[43m,\u001b[49m\n\u001b[0;32m   3969\u001b[0m \u001b[43m    \u001b[49m\u001b[43merrors\u001b[49m\u001b[38;5;241;43m=\u001b[39;49m\u001b[43merrors\u001b[49m\u001b[43m,\u001b[49m\n\u001b[0;32m   3970\u001b[0m \u001b[43m    \u001b[49m\u001b[43mcompression\u001b[49m\u001b[38;5;241;43m=\u001b[39;49m\u001b[43mcompression\u001b[49m\u001b[43m,\u001b[49m\n\u001b[0;32m   3971\u001b[0m \u001b[43m    \u001b[49m\u001b[43mquoting\u001b[49m\u001b[38;5;241;43m=\u001b[39;49m\u001b[43mquoting\u001b[49m\u001b[43m,\u001b[49m\n\u001b[0;32m   3972\u001b[0m \u001b[43m    \u001b[49m\u001b[43mcolumns\u001b[49m\u001b[38;5;241;43m=\u001b[39;49m\u001b[43mcolumns\u001b[49m\u001b[43m,\u001b[49m\n\u001b[0;32m   3973\u001b[0m \u001b[43m    \u001b[49m\u001b[43mindex_label\u001b[49m\u001b[38;5;241;43m=\u001b[39;49m\u001b[43mindex_label\u001b[49m\u001b[43m,\u001b[49m\n\u001b[0;32m   3974\u001b[0m \u001b[43m    \u001b[49m\u001b[43mmode\u001b[49m\u001b[38;5;241;43m=\u001b[39;49m\u001b[43mmode\u001b[49m\u001b[43m,\u001b[49m\n\u001b[0;32m   3975\u001b[0m \u001b[43m    \u001b[49m\u001b[43mchunksize\u001b[49m\u001b[38;5;241;43m=\u001b[39;49m\u001b[43mchunksize\u001b[49m\u001b[43m,\u001b[49m\n\u001b[0;32m   3976\u001b[0m \u001b[43m    \u001b[49m\u001b[43mquotechar\u001b[49m\u001b[38;5;241;43m=\u001b[39;49m\u001b[43mquotechar\u001b[49m\u001b[43m,\u001b[49m\n\u001b[0;32m   3977\u001b[0m \u001b[43m    \u001b[49m\u001b[43mdate_format\u001b[49m\u001b[38;5;241;43m=\u001b[39;49m\u001b[43mdate_format\u001b[49m\u001b[43m,\u001b[49m\n\u001b[0;32m   3978\u001b[0m \u001b[43m    \u001b[49m\u001b[43mdoublequote\u001b[49m\u001b[38;5;241;43m=\u001b[39;49m\u001b[43mdoublequote\u001b[49m\u001b[43m,\u001b[49m\n\u001b[0;32m   3979\u001b[0m \u001b[43m    \u001b[49m\u001b[43mescapechar\u001b[49m\u001b[38;5;241;43m=\u001b[39;49m\u001b[43mescapechar\u001b[49m\u001b[43m,\u001b[49m\n\u001b[0;32m   3980\u001b[0m \u001b[43m    \u001b[49m\u001b[43mstorage_options\u001b[49m\u001b[38;5;241;43m=\u001b[39;49m\u001b[43mstorage_options\u001b[49m\u001b[43m,\u001b[49m\n\u001b[0;32m   3981\u001b[0m \u001b[43m\u001b[49m\u001b[43m)\u001b[49m\n",
      "File \u001b[1;32m~\\AppData\\Local\\Packages\\PythonSoftwareFoundation.Python.3.11_qbz5n2kfra8p0\\LocalCache\\local-packages\\Python311\\site-packages\\pandas\\io\\formats\\format.py:1014\u001b[0m, in \u001b[0;36mDataFrameRenderer.to_csv\u001b[1;34m(self, path_or_buf, encoding, sep, columns, index_label, mode, compression, quoting, quotechar, lineterminator, chunksize, date_format, doublequote, escapechar, errors, storage_options)\u001b[0m\n\u001b[0;32m    993\u001b[0m     created_buffer \u001b[38;5;241m=\u001b[39m \u001b[38;5;28;01mFalse\u001b[39;00m\n\u001b[0;32m    995\u001b[0m csv_formatter \u001b[38;5;241m=\u001b[39m CSVFormatter(\n\u001b[0;32m    996\u001b[0m     path_or_buf\u001b[38;5;241m=\u001b[39mpath_or_buf,\n\u001b[0;32m    997\u001b[0m     lineterminator\u001b[38;5;241m=\u001b[39mlineterminator,\n\u001b[1;32m   (...)\u001b[0m\n\u001b[0;32m   1012\u001b[0m     formatter\u001b[38;5;241m=\u001b[39m\u001b[38;5;28mself\u001b[39m\u001b[38;5;241m.\u001b[39mfmt,\n\u001b[0;32m   1013\u001b[0m )\n\u001b[1;32m-> 1014\u001b[0m \u001b[43mcsv_formatter\u001b[49m\u001b[38;5;241;43m.\u001b[39;49m\u001b[43msave\u001b[49m\u001b[43m(\u001b[49m\u001b[43m)\u001b[49m\n\u001b[0;32m   1016\u001b[0m \u001b[38;5;28;01mif\u001b[39;00m created_buffer:\n\u001b[0;32m   1017\u001b[0m     \u001b[38;5;28;01massert\u001b[39;00m \u001b[38;5;28misinstance\u001b[39m(path_or_buf, StringIO)\n",
      "File \u001b[1;32m~\\AppData\\Local\\Packages\\PythonSoftwareFoundation.Python.3.11_qbz5n2kfra8p0\\LocalCache\\local-packages\\Python311\\site-packages\\pandas\\io\\formats\\csvs.py:251\u001b[0m, in \u001b[0;36mCSVFormatter.save\u001b[1;34m(self)\u001b[0m\n\u001b[0;32m    247\u001b[0m \u001b[38;5;250m\u001b[39m\u001b[38;5;124;03m\"\"\"\u001b[39;00m\n\u001b[0;32m    248\u001b[0m \u001b[38;5;124;03mCreate the writer & save.\u001b[39;00m\n\u001b[0;32m    249\u001b[0m \u001b[38;5;124;03m\"\"\"\u001b[39;00m\n\u001b[0;32m    250\u001b[0m \u001b[38;5;66;03m# apply compression and byte/text conversion\u001b[39;00m\n\u001b[1;32m--> 251\u001b[0m \u001b[38;5;28;01mwith\u001b[39;00m \u001b[43mget_handle\u001b[49m\u001b[43m(\u001b[49m\n\u001b[0;32m    252\u001b[0m \u001b[43m    \u001b[49m\u001b[38;5;28;43mself\u001b[39;49m\u001b[38;5;241;43m.\u001b[39;49m\u001b[43mfilepath_or_buffer\u001b[49m\u001b[43m,\u001b[49m\n\u001b[0;32m    253\u001b[0m \u001b[43m    \u001b[49m\u001b[38;5;28;43mself\u001b[39;49m\u001b[38;5;241;43m.\u001b[39;49m\u001b[43mmode\u001b[49m\u001b[43m,\u001b[49m\n\u001b[0;32m    254\u001b[0m \u001b[43m    \u001b[49m\u001b[43mencoding\u001b[49m\u001b[38;5;241;43m=\u001b[39;49m\u001b[38;5;28;43mself\u001b[39;49m\u001b[38;5;241;43m.\u001b[39;49m\u001b[43mencoding\u001b[49m\u001b[43m,\u001b[49m\n\u001b[0;32m    255\u001b[0m \u001b[43m    \u001b[49m\u001b[43merrors\u001b[49m\u001b[38;5;241;43m=\u001b[39;49m\u001b[38;5;28;43mself\u001b[39;49m\u001b[38;5;241;43m.\u001b[39;49m\u001b[43merrors\u001b[49m\u001b[43m,\u001b[49m\n\u001b[0;32m    256\u001b[0m \u001b[43m    \u001b[49m\u001b[43mcompression\u001b[49m\u001b[38;5;241;43m=\u001b[39;49m\u001b[38;5;28;43mself\u001b[39;49m\u001b[38;5;241;43m.\u001b[39;49m\u001b[43mcompression\u001b[49m\u001b[43m,\u001b[49m\n\u001b[0;32m    257\u001b[0m \u001b[43m    \u001b[49m\u001b[43mstorage_options\u001b[49m\u001b[38;5;241;43m=\u001b[39;49m\u001b[38;5;28;43mself\u001b[39;49m\u001b[38;5;241;43m.\u001b[39;49m\u001b[43mstorage_options\u001b[49m\u001b[43m,\u001b[49m\n\u001b[0;32m    258\u001b[0m \u001b[43m\u001b[49m\u001b[43m)\u001b[49m \u001b[38;5;28;01mas\u001b[39;00m handles:\n\u001b[0;32m    259\u001b[0m     \u001b[38;5;66;03m# Note: self.encoding is irrelevant here\u001b[39;00m\n\u001b[0;32m    260\u001b[0m     \u001b[38;5;28mself\u001b[39m\u001b[38;5;241m.\u001b[39mwriter \u001b[38;5;241m=\u001b[39m csvlib\u001b[38;5;241m.\u001b[39mwriter(\n\u001b[0;32m    261\u001b[0m         handles\u001b[38;5;241m.\u001b[39mhandle,\n\u001b[0;32m    262\u001b[0m         lineterminator\u001b[38;5;241m=\u001b[39m\u001b[38;5;28mself\u001b[39m\u001b[38;5;241m.\u001b[39mlineterminator,\n\u001b[1;32m   (...)\u001b[0m\n\u001b[0;32m    267\u001b[0m         quotechar\u001b[38;5;241m=\u001b[39m\u001b[38;5;28mself\u001b[39m\u001b[38;5;241m.\u001b[39mquotechar,\n\u001b[0;32m    268\u001b[0m     )\n\u001b[0;32m    270\u001b[0m     \u001b[38;5;28mself\u001b[39m\u001b[38;5;241m.\u001b[39m_save()\n",
      "File \u001b[1;32m~\\AppData\\Local\\Packages\\PythonSoftwareFoundation.Python.3.11_qbz5n2kfra8p0\\LocalCache\\local-packages\\Python311\\site-packages\\pandas\\io\\common.py:873\u001b[0m, in \u001b[0;36mget_handle\u001b[1;34m(path_or_buf, mode, encoding, compression, memory_map, is_text, errors, storage_options)\u001b[0m\n\u001b[0;32m    868\u001b[0m \u001b[38;5;28;01melif\u001b[39;00m \u001b[38;5;28misinstance\u001b[39m(handle, \u001b[38;5;28mstr\u001b[39m):\n\u001b[0;32m    869\u001b[0m     \u001b[38;5;66;03m# Check whether the filename is to be opened in binary mode.\u001b[39;00m\n\u001b[0;32m    870\u001b[0m     \u001b[38;5;66;03m# Binary mode does not support 'encoding' and 'newline'.\u001b[39;00m\n\u001b[0;32m    871\u001b[0m     \u001b[38;5;28;01mif\u001b[39;00m ioargs\u001b[38;5;241m.\u001b[39mencoding \u001b[38;5;129;01mand\u001b[39;00m \u001b[38;5;124m\"\u001b[39m\u001b[38;5;124mb\u001b[39m\u001b[38;5;124m\"\u001b[39m \u001b[38;5;129;01mnot\u001b[39;00m \u001b[38;5;129;01min\u001b[39;00m ioargs\u001b[38;5;241m.\u001b[39mmode:\n\u001b[0;32m    872\u001b[0m         \u001b[38;5;66;03m# Encoding\u001b[39;00m\n\u001b[1;32m--> 873\u001b[0m         handle \u001b[38;5;241m=\u001b[39m \u001b[38;5;28;43mopen\u001b[39;49m\u001b[43m(\u001b[49m\n\u001b[0;32m    874\u001b[0m \u001b[43m            \u001b[49m\u001b[43mhandle\u001b[49m\u001b[43m,\u001b[49m\n\u001b[0;32m    875\u001b[0m \u001b[43m            \u001b[49m\u001b[43mioargs\u001b[49m\u001b[38;5;241;43m.\u001b[39;49m\u001b[43mmode\u001b[49m\u001b[43m,\u001b[49m\n\u001b[0;32m    876\u001b[0m \u001b[43m            \u001b[49m\u001b[43mencoding\u001b[49m\u001b[38;5;241;43m=\u001b[39;49m\u001b[43mioargs\u001b[49m\u001b[38;5;241;43m.\u001b[39;49m\u001b[43mencoding\u001b[49m\u001b[43m,\u001b[49m\n\u001b[0;32m    877\u001b[0m \u001b[43m            \u001b[49m\u001b[43merrors\u001b[49m\u001b[38;5;241;43m=\u001b[39;49m\u001b[43merrors\u001b[49m\u001b[43m,\u001b[49m\n\u001b[0;32m    878\u001b[0m \u001b[43m            \u001b[49m\u001b[43mnewline\u001b[49m\u001b[38;5;241;43m=\u001b[39;49m\u001b[38;5;124;43m\"\u001b[39;49m\u001b[38;5;124;43m\"\u001b[39;49m\u001b[43m,\u001b[49m\n\u001b[0;32m    879\u001b[0m \u001b[43m        \u001b[49m\u001b[43m)\u001b[49m\n\u001b[0;32m    880\u001b[0m     \u001b[38;5;28;01melse\u001b[39;00m:\n\u001b[0;32m    881\u001b[0m         \u001b[38;5;66;03m# Binary mode\u001b[39;00m\n\u001b[0;32m    882\u001b[0m         handle \u001b[38;5;241m=\u001b[39m \u001b[38;5;28mopen\u001b[39m(handle, ioargs\u001b[38;5;241m.\u001b[39mmode)\n",
      "\u001b[1;31mPermissionError\u001b[0m: [Errno 13] Permission denied: 'C:\\\\Users\\\\ZZJQC0\\\\Documents\\\\Base de Datos RV\\\\Base de Datos\\\\Global Damage Report Exportacion.csv'"
     ]
    }
   ],
   "source": [
    "# Define la ruta del archivo CSV\n",
    "ruta_archivo_csv = r'C:\\Users\\ZZJQC0\\Documents\\Base de Datos RV\\Base de Datos\\Global Damage Report Exportacion.csv'\n",
    "\n",
    "# Guarda el DataFrame en formato CSV\n",
    "GDR.to_csv(ruta_archivo_csv, index=False, encoding='utf-8-sig')\n",
    "\n",
    "print(f'Archivo guardado exitosamente en {ruta_archivo_csv}')\n",
    "\n"
   ]
  }
 ],
 "metadata": {
  "kernelspec": {
   "display_name": "Python 3",
   "language": "python",
   "name": "python3"
  },
  "language_info": {
   "codemirror_mode": {
    "name": "ipython",
    "version": 3
   },
   "file_extension": ".py",
   "mimetype": "text/x-python",
   "name": "python",
   "nbconvert_exporter": "python",
   "pygments_lexer": "ipython3",
   "version": "3.11.7"
  }
 },
 "nbformat": 4,
 "nbformat_minor": 2
}
