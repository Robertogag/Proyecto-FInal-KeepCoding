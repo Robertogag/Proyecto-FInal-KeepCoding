{
 "cells": [
  {
   "cell_type": "code",
   "execution_count": 1,
   "metadata": {},
   "outputs": [],
   "source": [
    "import pandas as pd \n",
    "import numpy as np \n",
    "import xlsxwriter\n",
    "import openpyxl \n",
    "import os \n",
    "from openpyxl import load_workbook\n",
    "from pathlib import Path\n",
    "import os\n",
    "from openpyxl.styles import Font"
   ]
  },
  {
   "cell_type": "markdown",
   "metadata": {},
   "source": [
    "# Iniciamos importando el reporte de Evidencias de GDR\n",
    "\n"
   ]
  },
  {
   "cell_type": "code",
   "execution_count": 2,
   "metadata": {},
   "outputs": [
    {
     "name": "stdout",
     "output_type": "stream",
     "text": [
      "Procesado correctamente: EVIDENCIA DE DAÑOS 02 04 2024.xlsx\n",
      "Procesado correctamente: EVIDENCIA DE DAÑOS 03 04 2024.xlsx\n",
      "Procesado correctamente: EVIDENCIA DE DAÑOS 04 04 2024.xlsx\n",
      "Procesado correctamente: EVIDENCIA DE DAÑOS 06 04 2024.xlsx\n",
      "Procesado correctamente: EVIDENCIA DE DAÑOS 07 04 2024.xlsx\n",
      "Procesado correctamente: EVIDENCIA DE DAÑOS 08 04 2024.xlsx\n",
      "Procesado correctamente: EVIDENCIA DE DAÑOS 09 04 2024.xlsx\n",
      "Procesado correctamente: EVIDENCIA DE DAÑOS 10 04 2024.xlsx\n",
      "Procesado correctamente: EVIDENCIA DE DAÑOS 11 04 2024.xlsx\n",
      "Procesado correctamente: EVIDENCIA DE DAÑOS 13 04 2024.xlsx\n",
      "Procesado correctamente: EVIDENCIA DE DAÑOS 17 04 2024.xlsx\n",
      "Procesado correctamente: EVIDENCIA DE DAÑOS 20 04 2024.xlsx\n",
      "Procesado correctamente: EVIDENCIA DE DAÑOS 22 04 2024.xlsx\n",
      "Procesado correctamente: EVIDENCIA DE DAÑOS 23 04 2024.xlsx\n",
      "Procesado correctamente: EVIDENCIA DE DAÑOS 24 04 2024.xlsx\n",
      "Procesado correctamente: EVIDENCIA DE DAÑOS 25 04 2024.xlsx\n",
      "Procesado correctamente: EVIDENCIA DE DAÑOS 26 04 2024.xlsx\n",
      "Procesado correctamente: EVIDENCIA DE DAÑOS 27 04 2024.xlsx\n",
      "Procesado correctamente: EVIDENCIA DE DAÑOS 28 04 2024.xlsx\n",
      "Procesado correctamente: EVIDENCIA DE DAÑOS 29 04 2024.xlsx\n"
     ]
    }
   ],
   "source": [
    "\n",
    "dir_path = r\"C:\\Users\\ZZJQC0\\Documents\\Base de Datos RV\\Reportes\\Global Damage Report GM EXPORTACIÓN - Autotech\\EVIDENCIA DE DAÑOS\"\n",
    "df_list = []\n",
    "\n",
    "def extraer_hipervinculos(ws, col_idx):\n",
    "    links = []\n",
    "    for row in ws.iter_rows(min_row=2, max_row=ws.max_row, min_col=col_idx, max_col=col_idx):\n",
    "        cell = row[0]\n",
    "        if cell.value is not None:\n",
    "            link = cell.hyperlink.target if cell.hyperlink else None\n",
    "            links.append(link)\n",
    "        else:\n",
    "            links.append(None)\n",
    "    return links\n",
    "\n",
    "def ajustar_longitud_hipervinculos(links, df_length):\n",
    "    # Ajustar la longitud de los hipervínculos a la del DataFrame\n",
    "    return links[:df_length] + [None] * (df_length - len(links))\n",
    "\n",
    "for filename in os.listdir(dir_path):\n",
    "    if filename.startswith(\"EVIDENCIA DE DAÑOS\") and filename.endswith(\".xlsx\"):\n",
    "        try:\n",
    "            file_path = os.path.join(dir_path, filename)\n",
    "            wb = load_workbook(file_path, data_only=True)\n",
    "            ws = wb['Listado de Daños']\n",
    "            df = pd.read_excel(file_path, sheet_name='Listado de Daños', engine='openpyxl')\n",
    "            \n",
    "            # Ajusta y asigna los hipervínculos\n",
    "            df['Evidencia del Daño Link'] = ajustar_longitud_hipervinculos(extraer_hipervinculos(ws, 10), len(df))\n",
    "            df['Evidencia del Daño.1 Link'] = ajustar_longitud_hipervinculos(extraer_hipervinculos(ws, 11), len(df))\n",
    "            \n",
    "            df_list.append(df)\n",
    "            print(f\"Procesado correctamente: {filename}\")\n",
    "        except Exception as e:\n",
    "            print(f\"Error procesando el archivo {filename}: {e}\")\n",
    "\n",
    "EvidenciasGDR = pd.concat(df_list, ignore_index=True)\n",
    "\n",
    "\n",
    "\n",
    "\n",
    "\n",
    "\n"
   ]
  },
  {
   "cell_type": "markdown",
   "metadata": {},
   "source": [
    "**Eliminamos Columnas y limpiamos nombres de columnas:**"
   ]
  },
  {
   "cell_type": "code",
   "execution_count": 3,
   "metadata": {},
   "outputs": [
    {
     "data": {
      "text/html": [
       "<div>\n",
       "<style scoped>\n",
       "    .dataframe tbody tr th:only-of-type {\n",
       "        vertical-align: middle;\n",
       "    }\n",
       "\n",
       "    .dataframe tbody tr th {\n",
       "        vertical-align: top;\n",
       "    }\n",
       "\n",
       "    .dataframe thead th {\n",
       "        text-align: right;\n",
       "    }\n",
       "</style>\n",
       "<table border=\"1\" class=\"dataframe\">\n",
       "  <thead>\n",
       "    <tr style=\"text-align: right;\">\n",
       "      <th></th>\n",
       "      <th>Marca</th>\n",
       "      <th>VIN</th>\n",
       "      <th>Modelo</th>\n",
       "      <th>Destino</th>\n",
       "      <th>Área</th>\n",
       "      <th>Daño</th>\n",
       "      <th>Severidad</th>\n",
       "      <th>Descripción</th>\n",
       "      <th>Responsable</th>\n",
       "      <th>Evidencia del Daño</th>\n",
       "      <th>Evidencia del Daño.1</th>\n",
       "      <th>Evidencia del Daño Link</th>\n",
       "      <th>Evidencia del Daño.1 Link</th>\n",
       "    </tr>\n",
       "  </thead>\n",
       "  <tbody>\n",
       "    <tr>\n",
       "      <th>0</th>\n",
       "      <td>GM</td>\n",
       "      <td>3GCPABEK2RG323542</td>\n",
       "      <td>SILVERADO</td>\n",
       "      <td>USA</td>\n",
       "      <td>27</td>\n",
       "      <td>34</td>\n",
       "      <td>1</td>\n",
       "      <td>COFRE / DESPOSTILLADO FILOS / MENOS O IGUAL A ...</td>\n",
       "      <td>TLE</td>\n",
       "      <td>Ver Imagen</td>\n",
       "      <td>Ver Imagen</td>\n",
       "      <td>http://vinfinder.jl.serv.net.mx/tracoImg/D_3GC...</td>\n",
       "      <td>http://vinfinder.jl.serv.net.mx/tracoImg/D_3GC...</td>\n",
       "    </tr>\n",
       "    <tr>\n",
       "      <th>1</th>\n",
       "      <td>GM</td>\n",
       "      <td>3GCUD9E8XRG323327</td>\n",
       "      <td>SILVERADO</td>\n",
       "      <td>CHILE</td>\n",
       "      <td>1</td>\n",
       "      <td>37</td>\n",
       "      <td>1</td>\n",
       "      <td>Antena / ELEMENTOS FIJADOS AL EXT. VEHICULO DA...</td>\n",
       "      <td>TLE</td>\n",
       "      <td>Ver Imagen</td>\n",
       "      <td>Ver Imagen</td>\n",
       "      <td>http://vinfinder.jl.serv.net.mx/tracoImg/D_3GC...</td>\n",
       "      <td>http://vinfinder.jl.serv.net.mx/tracoImg/D_3GC...</td>\n",
       "    </tr>\n",
       "    <tr>\n",
       "      <th>2</th>\n",
       "      <td>GM</td>\n",
       "      <td>3GCUD9E8XRG323327</td>\n",
       "      <td>SILVERADO</td>\n",
       "      <td>CHILE</td>\n",
       "      <td>36</td>\n",
       "      <td>14</td>\n",
       "      <td>1</td>\n",
       "      <td>ESTRIBO INTERIOR DERECHO / ABOLLADO SIN DAÑO A...</td>\n",
       "      <td>TLE</td>\n",
       "      <td>Ver Imagen</td>\n",
       "      <td>Ver Imagen</td>\n",
       "      <td>http://vinfinder.jl.serv.net.mx/tracoImg/D_3GC...</td>\n",
       "      <td>http://vinfinder.jl.serv.net.mx/tracoImg/D_3GC...</td>\n",
       "    </tr>\n",
       "    <tr>\n",
       "      <th>3</th>\n",
       "      <td>GM</td>\n",
       "      <td>3GCUDFEL8RG320297</td>\n",
       "      <td>SILVERADO</td>\n",
       "      <td>USA</td>\n",
       "      <td>70</td>\n",
       "      <td>7</td>\n",
       "      <td>1</td>\n",
       "      <td>POSTE CENTRAL IZQUIERDO / RAYON PROFUNDO  (CAV...</td>\n",
       "      <td>TLE</td>\n",
       "      <td>Ver Imagen</td>\n",
       "      <td>Ver Imagen</td>\n",
       "      <td>http://vinfinder.jl.serv.net.mx/tracoImg/D_3GC...</td>\n",
       "      <td>http://vinfinder.jl.serv.net.mx/tracoImg/D_3GC...</td>\n",
       "    </tr>\n",
       "    <tr>\n",
       "      <th>4</th>\n",
       "      <td>GM</td>\n",
       "      <td>3GTUUEEL1RG323388</td>\n",
       "      <td>SIERRA</td>\n",
       "      <td>USA</td>\n",
       "      <td>52</td>\n",
       "      <td>14</td>\n",
       "      <td>1</td>\n",
       "      <td>CAJUELA / QUINTA PUERTA / MALETERO / ABOLLADO ...</td>\n",
       "      <td>TLE</td>\n",
       "      <td>Ver Imagen</td>\n",
       "      <td>Ver Imagen</td>\n",
       "      <td>http://vinfinder.jl.serv.net.mx/tracoImg/D_3GT...</td>\n",
       "      <td>http://vinfinder.jl.serv.net.mx/tracoImg/D_3GT...</td>\n",
       "    </tr>\n",
       "  </tbody>\n",
       "</table>\n",
       "</div>"
      ],
      "text/plain": [
       "  Marca                VIN     Modelo Destino  Área  Daño Severidad  \\\n",
       "0    GM  3GCPABEK2RG323542  SILVERADO     USA    27    34         1   \n",
       "1    GM  3GCUD9E8XRG323327  SILVERADO   CHILE     1    37         1   \n",
       "2    GM  3GCUD9E8XRG323327  SILVERADO   CHILE    36    14         1   \n",
       "3    GM  3GCUDFEL8RG320297  SILVERADO     USA    70     7         1   \n",
       "4    GM  3GTUUEEL1RG323388     SIERRA     USA    52    14         1   \n",
       "\n",
       "                                         Descripción Responsable  \\\n",
       "0  COFRE / DESPOSTILLADO FILOS / MENOS O IGUAL A ...         TLE   \n",
       "1  Antena / ELEMENTOS FIJADOS AL EXT. VEHICULO DA...         TLE   \n",
       "2  ESTRIBO INTERIOR DERECHO / ABOLLADO SIN DAÑO A...         TLE   \n",
       "3  POSTE CENTRAL IZQUIERDO / RAYON PROFUNDO  (CAV...         TLE   \n",
       "4  CAJUELA / QUINTA PUERTA / MALETERO / ABOLLADO ...         TLE   \n",
       "\n",
       "  Evidencia del Daño Evidencia del Daño.1  \\\n",
       "0         Ver Imagen           Ver Imagen   \n",
       "1         Ver Imagen           Ver Imagen   \n",
       "2         Ver Imagen           Ver Imagen   \n",
       "3         Ver Imagen           Ver Imagen   \n",
       "4         Ver Imagen           Ver Imagen   \n",
       "\n",
       "                             Evidencia del Daño Link  \\\n",
       "0  http://vinfinder.jl.serv.net.mx/tracoImg/D_3GC...   \n",
       "1  http://vinfinder.jl.serv.net.mx/tracoImg/D_3GC...   \n",
       "2  http://vinfinder.jl.serv.net.mx/tracoImg/D_3GC...   \n",
       "3  http://vinfinder.jl.serv.net.mx/tracoImg/D_3GC...   \n",
       "4  http://vinfinder.jl.serv.net.mx/tracoImg/D_3GT...   \n",
       "\n",
       "                           Evidencia del Daño.1 Link  \n",
       "0  http://vinfinder.jl.serv.net.mx/tracoImg/D_3GC...  \n",
       "1  http://vinfinder.jl.serv.net.mx/tracoImg/D_3GC...  \n",
       "2  http://vinfinder.jl.serv.net.mx/tracoImg/D_3GC...  \n",
       "3  http://vinfinder.jl.serv.net.mx/tracoImg/D_3GC...  \n",
       "4  http://vinfinder.jl.serv.net.mx/tracoImg/D_3GT...  "
      ]
     },
     "execution_count": 3,
     "metadata": {},
     "output_type": "execute_result"
    }
   ],
   "source": [
    "\n",
    "EvidenciasGDR.head()"
   ]
  },
  {
   "cell_type": "code",
   "execution_count": 4,
   "metadata": {},
   "outputs": [],
   "source": [
    "# Eliminar espacios al principio y al final de los nombres de las columnas\n",
    "EvidenciasGDR.columns = EvidenciasGDR.columns.str.strip()"
   ]
  },
  {
   "cell_type": "markdown",
   "metadata": {},
   "source": [
    "**Eliminar columnas**"
   ]
  },
  {
   "cell_type": "code",
   "execution_count": 5,
   "metadata": {},
   "outputs": [
    {
     "data": {
      "text/plain": [
       "Index(['Marca', 'VIN', 'Modelo', 'Destino', 'Área', 'Daño', 'Severidad',\n",
       "       'Descripción', 'Responsable', 'Evidencia del Daño',\n",
       "       'Evidencia del Daño.1', 'Evidencia del Daño Link',\n",
       "       'Evidencia del Daño.1 Link'],\n",
       "      dtype='object')"
      ]
     },
     "execution_count": 5,
     "metadata": {},
     "output_type": "execute_result"
    }
   ],
   "source": [
    "EvidenciasGDR.columns"
   ]
  },
  {
   "cell_type": "code",
   "execution_count": 6,
   "metadata": {},
   "outputs": [],
   "source": [
    "# Define las columnas que deseas conservar\n",
    "columnas_conservar = ['VIN', 'Evidencia del Daño Link', 'Evidencia del Daño.1 Link']\n",
    "\n",
    "# Selecciona solo las columnas deseadas del DataFrame\n",
    "EvidenciasGDR = EvidenciasGDR[columnas_conservar]\n"
   ]
  },
  {
   "cell_type": "code",
   "execution_count": 7,
   "metadata": {},
   "outputs": [
    {
     "data": {
      "text/html": [
       "<div>\n",
       "<style scoped>\n",
       "    .dataframe tbody tr th:only-of-type {\n",
       "        vertical-align: middle;\n",
       "    }\n",
       "\n",
       "    .dataframe tbody tr th {\n",
       "        vertical-align: top;\n",
       "    }\n",
       "\n",
       "    .dataframe thead th {\n",
       "        text-align: right;\n",
       "    }\n",
       "</style>\n",
       "<table border=\"1\" class=\"dataframe\">\n",
       "  <thead>\n",
       "    <tr style=\"text-align: right;\">\n",
       "      <th></th>\n",
       "      <th>VIN</th>\n",
       "      <th>Evidencia del Daño Link</th>\n",
       "      <th>Evidencia del Daño.1 Link</th>\n",
       "    </tr>\n",
       "  </thead>\n",
       "  <tbody>\n",
       "    <tr>\n",
       "      <th>0</th>\n",
       "      <td>3GCPABEK2RG323542</td>\n",
       "      <td>http://vinfinder.jl.serv.net.mx/tracoImg/D_3GC...</td>\n",
       "      <td>http://vinfinder.jl.serv.net.mx/tracoImg/D_3GC...</td>\n",
       "    </tr>\n",
       "    <tr>\n",
       "      <th>1</th>\n",
       "      <td>3GCUD9E8XRG323327</td>\n",
       "      <td>http://vinfinder.jl.serv.net.mx/tracoImg/D_3GC...</td>\n",
       "      <td>http://vinfinder.jl.serv.net.mx/tracoImg/D_3GC...</td>\n",
       "    </tr>\n",
       "    <tr>\n",
       "      <th>2</th>\n",
       "      <td>3GCUD9E8XRG323327</td>\n",
       "      <td>http://vinfinder.jl.serv.net.mx/tracoImg/D_3GC...</td>\n",
       "      <td>http://vinfinder.jl.serv.net.mx/tracoImg/D_3GC...</td>\n",
       "    </tr>\n",
       "    <tr>\n",
       "      <th>3</th>\n",
       "      <td>3GCUDFEL8RG320297</td>\n",
       "      <td>http://vinfinder.jl.serv.net.mx/tracoImg/D_3GC...</td>\n",
       "      <td>http://vinfinder.jl.serv.net.mx/tracoImg/D_3GC...</td>\n",
       "    </tr>\n",
       "    <tr>\n",
       "      <th>4</th>\n",
       "      <td>3GTUUEEL1RG323388</td>\n",
       "      <td>http://vinfinder.jl.serv.net.mx/tracoImg/D_3GT...</td>\n",
       "      <td>http://vinfinder.jl.serv.net.mx/tracoImg/D_3GT...</td>\n",
       "    </tr>\n",
       "  </tbody>\n",
       "</table>\n",
       "</div>"
      ],
      "text/plain": [
       "                 VIN                            Evidencia del Daño Link  \\\n",
       "0  3GCPABEK2RG323542  http://vinfinder.jl.serv.net.mx/tracoImg/D_3GC...   \n",
       "1  3GCUD9E8XRG323327  http://vinfinder.jl.serv.net.mx/tracoImg/D_3GC...   \n",
       "2  3GCUD9E8XRG323327  http://vinfinder.jl.serv.net.mx/tracoImg/D_3GC...   \n",
       "3  3GCUDFEL8RG320297  http://vinfinder.jl.serv.net.mx/tracoImg/D_3GC...   \n",
       "4  3GTUUEEL1RG323388  http://vinfinder.jl.serv.net.mx/tracoImg/D_3GT...   \n",
       "\n",
       "                           Evidencia del Daño.1 Link  \n",
       "0  http://vinfinder.jl.serv.net.mx/tracoImg/D_3GC...  \n",
       "1  http://vinfinder.jl.serv.net.mx/tracoImg/D_3GC...  \n",
       "2  http://vinfinder.jl.serv.net.mx/tracoImg/D_3GC...  \n",
       "3  http://vinfinder.jl.serv.net.mx/tracoImg/D_3GC...  \n",
       "4  http://vinfinder.jl.serv.net.mx/tracoImg/D_3GT...  "
      ]
     },
     "execution_count": 7,
     "metadata": {},
     "output_type": "execute_result"
    }
   ],
   "source": [
    "EvidenciasGDR.head()"
   ]
  },
  {
   "cell_type": "markdown",
   "metadata": {},
   "source": [
    "### Guardamos el DF y nos aseguramos que los Hipervinculos funcionen:"
   ]
  },
  {
   "cell_type": "code",
   "execution_count": 8,
   "metadata": {},
   "outputs": [],
   "source": [
    "# Guarda el DataFrame a CSV\n",
    "ruta_csv = r'C:\\Users\\ZZJQC0\\Documents\\Base de Datos RV\\Base de Datos\\EvidenciasDaños.csv'\n",
    "\n",
    "\n",
    "EvidenciasGDR.to_csv(ruta_csv, index=False, encoding='utf-8-sig', sep=';')\n",
    "\n",
    "\n",
    "\n"
   ]
  }
 ],
 "metadata": {
  "kernelspec": {
   "display_name": "Python 3",
   "language": "python",
   "name": "python3"
  },
  "language_info": {
   "codemirror_mode": {
    "name": "ipython",
    "version": 3
   },
   "file_extension": ".py",
   "mimetype": "text/x-python",
   "name": "python",
   "nbconvert_exporter": "python",
   "pygments_lexer": "ipython3",
   "version": "3.11.7"
  }
 },
 "nbformat": 4,
 "nbformat_minor": 2
}
